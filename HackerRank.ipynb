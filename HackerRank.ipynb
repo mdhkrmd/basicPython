{
 "cells": [
  {
   "cell_type": "markdown",
   "id": "f890a548",
   "metadata": {},
   "source": [
    "# I vs J:\n",
    "a = [5,6,7,8]\n",
    "b = [3,6,10,11]\n",
    "\n",
    "if a[0] > b[0] -> x += 1\n",
    "if a[1] == b[1] -> x,y += 0\n",
    "if a[2] < b[2] -> y += 1"
   ]
  },
  {
   "cell_type": "code",
   "execution_count": 31,
   "id": "4ab7c25e",
   "metadata": {},
   "outputs": [
    {
     "data": {
      "text/plain": [
       "(2, 3)"
      ]
     },
     "execution_count": 31,
     "metadata": {},
     "output_type": "execute_result"
    }
   ],
   "source": [
    "x = 0\n",
    "y = 0\n",
    "\n",
    "a = [5,6,7,8,12,100]\n",
    "b = [3,6,10,12,14,50]\n",
    "\n",
    "def nilai(a,b):\n",
    "    global x\n",
    "    global y\n",
    "    for i,j in zip(a,b):\n",
    "        if i > j:\n",
    "            x += 1\n",
    "        elif i == j:\n",
    "            x += 0\n",
    "            y += 0\n",
    "        elif j > i:\n",
    "            y += 1\n",
    "    return x,y\n",
    "\n",
    "nilai(a,b)"
   ]
  },
  {
   "cell_type": "markdown",
   "id": "7aad316c",
   "metadata": {},
   "source": [
    "# Sum Of Array\n",
    "\n",
    "Example:\n",
    "a = [5,4,3,2,1]\n",
    "sum = 15"
   ]
  },
  {
   "cell_type": "code",
   "execution_count": 32,
   "id": "f253aa10",
   "metadata": {},
   "outputs": [
    {
     "data": {
      "text/plain": [
       "17"
      ]
     },
     "execution_count": 32,
     "metadata": {},
     "output_type": "execute_result"
    }
   ],
   "source": [
    "arr = [5,4,3,3,2]\n",
    "hasil = 0\n",
    "\n",
    "def kuy(a):\n",
    "    global hasil\n",
    "    for i in a:\n",
    "        hasil += i\n",
    "    return hasil\n",
    "\n",
    "kuy(arr)"
   ]
  },
  {
   "cell_type": "markdown",
   "id": "aec63bbc",
   "metadata": {},
   "source": [
    "# Diagonal Difference"
   ]
  },
  {
   "cell_type": "code",
   "execution_count": 1,
   "id": "32ea8f48",
   "metadata": {},
   "outputs": [],
   "source": [
    "import numpy as np"
   ]
  },
  {
   "cell_type": "code",
   "execution_count": 145,
   "id": "6fce6c8d",
   "metadata": {},
   "outputs": [
    {
     "data": {
      "text/plain": [
       "array([[91, 35, 15, 60, 30, 66,  1],\n",
       "       [35,  6, 55, 76, 49, 76, 99],\n",
       "       [ 5, 74, 31,  8, 28, 70, 93],\n",
       "       [97, 87, 31, 32, 76, 37, 12],\n",
       "       [83, 55, 55, 21, 13, 36, 78],\n",
       "       [12,  7, 20, 86,  8, 33, 87],\n",
       "       [92, 25, 28, 58,  8, 40, 81]])"
      ]
     },
     "execution_count": 145,
     "metadata": {},
     "output_type": "execute_result"
    }
   ],
   "source": [
    "a = np.random.randint(1,100,(7,7))\n",
    "a"
   ]
  },
  {
   "cell_type": "code",
   "execution_count": 146,
   "id": "4f3e65bd",
   "metadata": {},
   "outputs": [
    {
     "name": "stdout",
     "output_type": "stream",
     "text": [
      "91\n",
      "6\n",
      "31\n",
      "32\n",
      "13\n",
      "33\n",
      "81\n"
     ]
    },
    {
     "data": {
      "text/plain": [
       "287"
      ]
     },
     "execution_count": 146,
     "metadata": {},
     "output_type": "execute_result"
    }
   ],
   "source": [
    "hasil = 0\n",
    "for b in range(0,len(a)):\n",
    "    print(a[b][b])\n",
    "    hasil += a[b][b]\n",
    "hasil"
   ]
  },
  {
   "cell_type": "code",
   "execution_count": 147,
   "id": "f4d3993c",
   "metadata": {},
   "outputs": [
    {
     "name": "stdout",
     "output_type": "stream",
     "text": [
      "1\n",
      "76\n",
      "28\n",
      "32\n",
      "55\n",
      "7\n",
      "92\n"
     ]
    },
    {
     "data": {
      "text/plain": [
       "291"
      ]
     },
     "execution_count": 147,
     "metadata": {},
     "output_type": "execute_result"
    }
   ],
   "source": [
    "hasil_2 = 0\n",
    "akhir = len(a) - 1\n",
    "for c in range (0,len(a)):\n",
    "    print(a[c][akhir])\n",
    "    hasil_2 += a[c][akhir]\n",
    "    akhir -= 1\n",
    "hasil_2"
   ]
  },
  {
   "cell_type": "code",
   "execution_count": 149,
   "id": "bc2d78fa",
   "metadata": {},
   "outputs": [
    {
     "name": "stdout",
     "output_type": "stream",
     "text": [
      "4\n"
     ]
    }
   ],
   "source": [
    "has_akhir = hasil-hasil_2\n",
    "ak = 0\n",
    "if has_akhir < 0:\n",
    "    ak = has_akhir * -1\n",
    "    print(ak)\n",
    "else:\n",
    "    print(has_akhir)"
   ]
  },
  {
   "cell_type": "markdown",
   "id": "4a3a5b52",
   "metadata": {},
   "source": [
    "# Plus Minus\n",
    "Print the following  lines, each to  decimals:\n",
    "1. proportion of positive values\n",
    "2. proportion of negative values\n",
    "3. proportion of zeros"
   ]
  },
  {
   "cell_type": "code",
   "execution_count": 181,
   "id": "6ca923e5",
   "metadata": {},
   "outputs": [
    {
     "data": {
      "text/plain": [
       "(0.5, 0.3333333333333333, 0.16666666666666666)"
      ]
     },
     "execution_count": 181,
     "metadata": {},
     "output_type": "execute_result"
    }
   ],
   "source": [
    "a = [-4,3,-9,0,4,1]\n",
    "def plusMinus(arr):\n",
    "    # Write your code here\n",
    "    pos = 0\n",
    "    neg = 0\n",
    "    net = 0\n",
    "    for i in range (0, len(arr)):\n",
    "        if arr[i] > 0:\n",
    "            pos += 1\n",
    "        elif arr[i] < 0:\n",
    "            neg += 1\n",
    "        elif arr[i] == 0:\n",
    "            net += 1\n",
    "\n",
    "    akpos = pos / len(arr)\n",
    "    akneg = neg / len(arr)\n",
    "    aknet = net / len(arr)\n",
    "    return akpos, akneg, aknet\n",
    "\n",
    "plusMinus(a)"
   ]
  },
  {
   "cell_type": "markdown",
   "id": "18fa1bdf",
   "metadata": {},
   "source": [
    "#  For Loop\n",
    "Right Align\n",
    "        #\n",
    "       ##\n",
    "      ###\n",
    "     ####\n",
    "    #####"
   ]
  },
  {
   "cell_type": "code",
   "execution_count": 51,
   "id": "b4bea948",
   "metadata": {},
   "outputs": [
    {
     "name": "stdout",
     "output_type": "stream",
     "text": [
      "4\n",
      "*\r\n",
      "**\r\n",
      "***\r\n",
      "****\r\n"
     ]
    },
    {
     "name": "stderr",
     "output_type": "stream",
     "text": [
      "C:\\Users\\ACER\\AppData\\Local\\Temp\\ipykernel_7424\\3815261.py:2: DeprecationWarning: This function is deprecated. Please call randint(1, 10 + 1) instead\n",
      "  a = np.random.random_integers(1,10)\n"
     ]
    }
   ],
   "source": [
    "#Left Align\n",
    "a = np.random.random_integers(1,10)\n",
    "print(a)\n",
    "\n",
    "for i in range (0,a):\n",
    "    for j in range(0, i+1):\n",
    "        print(\"*\", end=\"\")\n",
    "    print(\"\\r\")"
   ]
  },
  {
   "cell_type": "code",
   "execution_count": 86,
   "id": "6476b9e9",
   "metadata": {},
   "outputs": [
    {
     "name": "stdout",
     "output_type": "stream",
     "text": [
      "            *\r\n",
      "           **\r\n",
      "          ***\r\n",
      "         ****\r\n",
      "        *****\r\n",
      "       ******\r\n",
      "      *******\r\n"
     ]
    },
    {
     "name": "stderr",
     "output_type": "stream",
     "text": [
      "C:\\Users\\ACER\\AppData\\Local\\Temp\\ipykernel_7424\\1102005922.py:1: DeprecationWarning: This function is deprecated. Please call randint(1, 10 + 1) instead\n",
      "  n = np.random.random_integers(1,10)\n"
     ]
    }
   ],
   "source": [
    "n = np.random.random_integers(1,10)\n",
    "k = 2*n - 2\n",
    "for i in range(0, n):\n",
    "    for j in range(0, k):\n",
    "        print(end=\" \")\n",
    "    k = k - 1\n",
    "    for j in range(0, i+1):\n",
    "        print(\"*\", end=\"\")\n",
    "    print(\"\\r\")"
   ]
  },
  {
   "cell_type": "markdown",
   "id": "3e3cdcfd",
   "metadata": {},
   "source": [
    "# Mini-Max Sum"
   ]
  },
  {
   "cell_type": "markdown",
   "id": "fc978aa1",
   "metadata": {},
   "source": [
    "[1,3,5,7,9]\n",
    "The minimum sum is 1+3+5+7 and the maximum sum is 3+5+7+9. The function prints"
   ]
  },
  {
   "cell_type": "code",
   "execution_count": 70,
   "id": "c8fa8b2a",
   "metadata": {},
   "outputs": [
    {
     "name": "stdout",
     "output_type": "stream",
     "text": [
      "[1, 8, 10, 10, 19, 21, 29]\n"
     ]
    }
   ],
   "source": [
    "import random\n",
    "randomlist = []\n",
    "for i in range(0,7):\n",
    "    n = random.randint(1,30)\n",
    "    randomlist.append(n)\n",
    "\n",
    "randomlist.sort(reverse=False)\n",
    "print(randomlist)\n",
    "# print(len(randomlist))\n",
    "# panjang = len(randomlist) - 1\n",
    "# panjang"
   ]
  },
  {
   "cell_type": "code",
   "execution_count": 71,
   "id": "18b49a02",
   "metadata": {},
   "outputs": [
    {
     "data": {
      "text/plain": [
       "(69, 97)"
      ]
     },
     "execution_count": 71,
     "metadata": {},
     "output_type": "execute_result"
    }
   ],
   "source": [
    "sum1 = 0\n",
    "sum2 = 0\n",
    "for x in range (0, len(randomlist)-1):\n",
    "    sum1 += randomlist[x]\n",
    "    sum2 += randomlist[x+1]\n",
    "sum1, sum2"
   ]
  },
  {
   "cell_type": "markdown",
   "id": "ea7370ba",
   "metadata": {},
   "source": [
    "# Return len max value"
   ]
  },
  {
   "cell_type": "markdown",
   "id": "2e4e9f81",
   "metadata": {},
   "source": [
    "Example: There is an array with = [1,2,3,3,4,8,8]\n",
    "the highest value is 8, so we will return how many the highest value in that array\n",
    "in this case, the answer will be 2"
   ]
  },
  {
   "cell_type": "code",
   "execution_count": 110,
   "id": "ba11ad6f",
   "metadata": {},
   "outputs": [
    {
     "name": "stdout",
     "output_type": "stream",
     "text": [
      "[27, 23, 23, 19, 19, 19, 15, 12, 10, 1]\n"
     ]
    }
   ],
   "source": [
    "import random\n",
    "randomlist = []\n",
    "for i in range(0,10):\n",
    "    n = random.randint(1,30)\n",
    "    randomlist.append(n)\n",
    "\n",
    "randomlist.sort(reverse=True)\n",
    "print(randomlist)"
   ]
  },
  {
   "cell_type": "code",
   "execution_count": 111,
   "id": "d2f97d19",
   "metadata": {},
   "outputs": [
    {
     "name": "stdout",
     "output_type": "stream",
     "text": [
      "[27, 27, 27, 27, 27, 27, 27, 27, 27]\n"
     ]
    }
   ],
   "source": [
    "high = 0\n",
    "ins = []\n",
    "\n",
    "for i in range(0, len(randomlist)):\n",
    "    if randomlist[0] > randomlist[i]:\n",
    "        high = randomlist[0]\n",
    "        ins.append(high) \n",
    "print(ins)"
   ]
  },
  {
   "cell_type": "code",
   "execution_count": null,
   "id": "17ace19b",
   "metadata": {},
   "outputs": [],
   "source": []
  }
 ],
 "metadata": {
  "kernelspec": {
   "display_name": "Python 3 (ipykernel)",
   "language": "python",
   "name": "python3"
  },
  "language_info": {
   "codemirror_mode": {
    "name": "ipython",
    "version": 3
   },
   "file_extension": ".py",
   "mimetype": "text/x-python",
   "name": "python",
   "nbconvert_exporter": "python",
   "pygments_lexer": "ipython3",
   "version": "3.9.12"
  },
  "varInspector": {
   "cols": {
    "lenName": 16,
    "lenType": 16,
    "lenVar": 40
   },
   "kernels_config": {
    "python": {
     "delete_cmd_postfix": "",
     "delete_cmd_prefix": "del ",
     "library": "var_list.py",
     "varRefreshCmd": "print(var_dic_list())"
    },
    "r": {
     "delete_cmd_postfix": ") ",
     "delete_cmd_prefix": "rm(",
     "library": "var_list.r",
     "varRefreshCmd": "cat(var_dic_list()) "
    }
   },
   "types_to_exclude": [
    "module",
    "function",
    "builtin_function_or_method",
    "instance",
    "_Feature"
   ],
   "window_display": false
  }
 },
 "nbformat": 4,
 "nbformat_minor": 5
}
